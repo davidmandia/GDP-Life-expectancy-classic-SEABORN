{
 "cells": [
  {
   "cell_type": "code",
   "execution_count": 20,
   "metadata": {},
   "outputs": [],
   "source": [
    "import pandas as pd\n",
    "import seaborn as sns\n",
    "from matplotlib import pyplot as plt\n",
    "import numpy as np"
   ]
  },
  {
   "cell_type": "code",
   "execution_count": 4,
   "metadata": {},
   "outputs": [],
   "source": [
    "countries = pd.read_csv('all_data.csv')"
   ]
  },
  {
   "cell_type": "code",
   "execution_count": 8,
   "metadata": {},
   "outputs": [
    {
     "data": {
      "text/html": [
       "<div>\n",
       "<style scoped>\n",
       "    .dataframe tbody tr th:only-of-type {\n",
       "        vertical-align: middle;\n",
       "    }\n",
       "\n",
       "    .dataframe tbody tr th {\n",
       "        vertical-align: top;\n",
       "    }\n",
       "\n",
       "    .dataframe thead th {\n",
       "        text-align: right;\n",
       "    }\n",
       "</style>\n",
       "<table border=\"1\" class=\"dataframe\">\n",
       "  <thead>\n",
       "    <tr style=\"text-align: right;\">\n",
       "      <th></th>\n",
       "      <th>Country</th>\n",
       "      <th>Year</th>\n",
       "      <th>Life expectancy at birth (years)</th>\n",
       "      <th>GDP</th>\n",
       "    </tr>\n",
       "  </thead>\n",
       "  <tbody>\n",
       "    <tr>\n",
       "      <th>0</th>\n",
       "      <td>Chile</td>\n",
       "      <td>2000</td>\n",
       "      <td>77.3</td>\n",
       "      <td>7.786093e+10</td>\n",
       "    </tr>\n",
       "    <tr>\n",
       "      <th>1</th>\n",
       "      <td>Chile</td>\n",
       "      <td>2001</td>\n",
       "      <td>77.3</td>\n",
       "      <td>7.097992e+10</td>\n",
       "    </tr>\n",
       "    <tr>\n",
       "      <th>2</th>\n",
       "      <td>Chile</td>\n",
       "      <td>2002</td>\n",
       "      <td>77.8</td>\n",
       "      <td>6.973681e+10</td>\n",
       "    </tr>\n",
       "    <tr>\n",
       "      <th>3</th>\n",
       "      <td>Chile</td>\n",
       "      <td>2003</td>\n",
       "      <td>77.9</td>\n",
       "      <td>7.564346e+10</td>\n",
       "    </tr>\n",
       "    <tr>\n",
       "      <th>4</th>\n",
       "      <td>Chile</td>\n",
       "      <td>2004</td>\n",
       "      <td>78.0</td>\n",
       "      <td>9.921039e+10</td>\n",
       "    </tr>\n",
       "  </tbody>\n",
       "</table>\n",
       "</div>"
      ],
      "text/plain": [
       "  Country  Year  Life expectancy at birth (years)           GDP\n",
       "0   Chile  2000                              77.3  7.786093e+10\n",
       "1   Chile  2001                              77.3  7.097992e+10\n",
       "2   Chile  2002                              77.8  6.973681e+10\n",
       "3   Chile  2003                              77.9  7.564346e+10\n",
       "4   Chile  2004                              78.0  9.921039e+10"
      ]
     },
     "execution_count": 8,
     "metadata": {},
     "output_type": "execute_result"
    }
   ],
   "source": [
    "countries.head(5)"
   ]
  },
  {
   "cell_type": "code",
   "execution_count": 10,
   "metadata": {},
   "outputs": [
    {
     "data": {
      "text/plain": [
       "array(['Chile', 'China', 'Germany', 'Mexico', 'United States of America',\n",
       "       'Zimbabwe'], dtype=object)"
      ]
     },
     "execution_count": 10,
     "metadata": {},
     "output_type": "execute_result"
    }
   ],
   "source": [
    "countries.Country.unique()"
   ]
  },
  {
   "cell_type": "code",
   "execution_count": 35,
   "metadata": {},
   "outputs": [],
   "source": [
    "Chile = countries[countries.Country == 'Chile']"
   ]
  },
  {
   "cell_type": "code",
   "execution_count": 42,
   "metadata": {},
   "outputs": [],
   "source": [
    "China = countries[countries.Country == 'China']"
   ]
  },
  {
   "cell_type": "code",
   "execution_count": 14,
   "metadata": {},
   "outputs": [],
   "source": [
    "Germany = countries[countries.Country == 'Germany']"
   ]
  },
  {
   "cell_type": "code",
   "execution_count": 15,
   "metadata": {},
   "outputs": [],
   "source": [
    "Mexico = countries[countries.Country == 'Mexico']"
   ]
  },
  {
   "cell_type": "code",
   "execution_count": 17,
   "metadata": {},
   "outputs": [],
   "source": [
    "USA = countries[countries.Country == 'United States of America']"
   ]
  },
  {
   "cell_type": "code",
   "execution_count": 18,
   "metadata": {},
   "outputs": [],
   "source": [
    "Zimbabwe = countries[countries.Country == 'Zimbabwe']"
   ]
  },
  {
   "cell_type": "code",
   "execution_count": 45,
   "metadata": {},
   "outputs": [
    {
     "data": {
      "image/png": "[encoded data removed]",
      "text/plain": [
       "<Figure size 432x288 with 3 Axes>"
      ]
     },
     "metadata": {
      "needs_background": "light"
     },
     "output_type": "display_data"
    }
   ],
   "source": [
    "figure = plt.figure()\n",
    "Chile_plt = plt.subplot(1, 3, 1)\n",
    "\n",
    "plt.plot(Chile['Year'], Chile['Life expectancy at birth (years)'], label = 'Chile')\n",
    "Chile_plt.set_xlabel('Year')\n",
    "Chile_plt.set_ylabel('Life Expectancy')\n",
    "Chile_plt.set_title('Chile')\n",
    "\n",
    "China_plt = plt.subplot(1, 3, 2)\n",
    "\n",
    "plt.plot(China['Year'], China['Life expectancy at birth (years)'], label = 'China')\n",
    "China_plt.set_xlabel('Year')\n",
    "China_plt.set_ylabel('Life Expectancy')\n",
    "China_plt.set_title('China')\n",
    "\n",
    "USA_plt = plt.subplot(1, 3, 3)\n",
    "\n",
    "plt.plot(USA['Year'], USA['Life expectancy at birth (years)'], label = 'USA')\n",
    "USA_plt.set_xlabel('Year')\n",
    "USA_plt.set_ylabel('Life Expectancy')\n",
    "USA_plt.set_title('USA')\n",
    "\n",
    "plt.show()\n",
    "\n",
    "\n",
    "\n"
   ]
  },
  {
   "cell_type": "code",
   "execution_count": 55,
   "metadata": {},
   "outputs": [
    {
     "data": {
      "text/html": [
       "<div>\n",
       "<style scoped>\n",
       "    .dataframe tbody tr th:only-of-type {\n",
       "        vertical-align: middle;\n",
       "    }\n",
       "\n",
       "    .dataframe tbody tr th {\n",
       "        vertical-align: top;\n",
       "    }\n",
       "\n",
       "    .dataframe thead th {\n",
       "        text-align: right;\n",
       "    }\n",
       "</style>\n",
       "<table border=\"1\" class=\"dataframe\">\n",
       "  <thead>\n",
       "    <tr style=\"text-align: right;\">\n",
       "      <th></th>\n",
       "      <th>Country</th>\n",
       "      <th>Year</th>\n",
       "      <th>Life expectancy at birth (years)</th>\n",
       "      <th>GDP</th>\n",
       "      <th>GDP in Trilion</th>\n",
       "    </tr>\n",
       "  </thead>\n",
       "  <tbody>\n",
       "    <tr>\n",
       "      <th>16</th>\n",
       "      <td>China</td>\n",
       "      <td>2000</td>\n",
       "      <td>71.7</td>\n",
       "      <td>1.211350e+12</td>\n",
       "      <td>1.21135</td>\n",
       "    </tr>\n",
       "    <tr>\n",
       "      <th>17</th>\n",
       "      <td>China</td>\n",
       "      <td>2001</td>\n",
       "      <td>72.2</td>\n",
       "      <td>1.339400e+12</td>\n",
       "      <td>1.33940</td>\n",
       "    </tr>\n",
       "    <tr>\n",
       "      <th>18</th>\n",
       "      <td>China</td>\n",
       "      <td>2002</td>\n",
       "      <td>72.7</td>\n",
       "      <td>1.470550e+12</td>\n",
       "      <td>1.47055</td>\n",
       "    </tr>\n",
       "    <tr>\n",
       "      <th>19</th>\n",
       "      <td>China</td>\n",
       "      <td>2003</td>\n",
       "      <td>73.1</td>\n",
       "      <td>1.660290e+12</td>\n",
       "      <td>1.66029</td>\n",
       "    </tr>\n",
       "    <tr>\n",
       "      <th>20</th>\n",
       "      <td>China</td>\n",
       "      <td>2004</td>\n",
       "      <td>73.5</td>\n",
       "      <td>1.955350e+12</td>\n",
       "      <td>1.95535</td>\n",
       "    </tr>\n",
       "    <tr>\n",
       "      <th>21</th>\n",
       "      <td>China</td>\n",
       "      <td>2005</td>\n",
       "      <td>73.9</td>\n",
       "      <td>2.285970e+12</td>\n",
       "      <td>2.28597</td>\n",
       "    </tr>\n",
       "    <tr>\n",
       "      <th>22</th>\n",
       "      <td>China</td>\n",
       "      <td>2006</td>\n",
       "      <td>74.2</td>\n",
       "      <td>2.752130e+12</td>\n",
       "      <td>2.75213</td>\n",
       "    </tr>\n",
       "    <tr>\n",
       "      <th>23</th>\n",
       "      <td>China</td>\n",
       "      <td>2007</td>\n",
       "      <td>74.4</td>\n",
       "      <td>3.552180e+12</td>\n",
       "      <td>3.55218</td>\n",
       "    </tr>\n",
       "    <tr>\n",
       "      <th>24</th>\n",
       "      <td>China</td>\n",
       "      <td>2008</td>\n",
       "      <td>74.5</td>\n",
       "      <td>4.598210e+12</td>\n",
       "      <td>4.59821</td>\n",
       "    </tr>\n",
       "    <tr>\n",
       "      <th>25</th>\n",
       "      <td>China</td>\n",
       "      <td>2009</td>\n",
       "      <td>74.9</td>\n",
       "      <td>5.109950e+12</td>\n",
       "      <td>5.10995</td>\n",
       "    </tr>\n",
       "    <tr>\n",
       "      <th>26</th>\n",
       "      <td>China</td>\n",
       "      <td>2010</td>\n",
       "      <td>75.0</td>\n",
       "      <td>6.100620e+12</td>\n",
       "      <td>6.10062</td>\n",
       "    </tr>\n",
       "    <tr>\n",
       "      <th>27</th>\n",
       "      <td>China</td>\n",
       "      <td>2011</td>\n",
       "      <td>75.2</td>\n",
       "      <td>7.572550e+12</td>\n",
       "      <td>7.57255</td>\n",
       "    </tr>\n",
       "    <tr>\n",
       "      <th>28</th>\n",
       "      <td>China</td>\n",
       "      <td>2012</td>\n",
       "      <td>75.4</td>\n",
       "      <td>8.560550e+12</td>\n",
       "      <td>8.56055</td>\n",
       "    </tr>\n",
       "    <tr>\n",
       "      <th>29</th>\n",
       "      <td>China</td>\n",
       "      <td>2013</td>\n",
       "      <td>75.6</td>\n",
       "      <td>9.607220e+12</td>\n",
       "      <td>9.60722</td>\n",
       "    </tr>\n",
       "    <tr>\n",
       "      <th>30</th>\n",
       "      <td>China</td>\n",
       "      <td>2014</td>\n",
       "      <td>75.8</td>\n",
       "      <td>1.048240e+13</td>\n",
       "      <td>10.48240</td>\n",
       "    </tr>\n",
       "    <tr>\n",
       "      <th>31</th>\n",
       "      <td>China</td>\n",
       "      <td>2015</td>\n",
       "      <td>76.1</td>\n",
       "      <td>1.106470e+13</td>\n",
       "      <td>11.06470</td>\n",
       "    </tr>\n",
       "    <tr>\n",
       "      <th>64</th>\n",
       "      <td>United States of America</td>\n",
       "      <td>2000</td>\n",
       "      <td>76.8</td>\n",
       "      <td>1.030000e+13</td>\n",
       "      <td>10.30000</td>\n",
       "    </tr>\n",
       "    <tr>\n",
       "      <th>65</th>\n",
       "      <td>United States of America</td>\n",
       "      <td>2001</td>\n",
       "      <td>76.9</td>\n",
       "      <td>1.060000e+13</td>\n",
       "      <td>10.60000</td>\n",
       "    </tr>\n",
       "    <tr>\n",
       "      <th>66</th>\n",
       "      <td>United States of America</td>\n",
       "      <td>2002</td>\n",
       "      <td>77.0</td>\n",
       "      <td>1.100000e+13</td>\n",
       "      <td>11.00000</td>\n",
       "    </tr>\n",
       "    <tr>\n",
       "      <th>67</th>\n",
       "      <td>United States of America</td>\n",
       "      <td>2003</td>\n",
       "      <td>77.2</td>\n",
       "      <td>1.150000e+13</td>\n",
       "      <td>11.50000</td>\n",
       "    </tr>\n",
       "    <tr>\n",
       "      <th>68</th>\n",
       "      <td>United States of America</td>\n",
       "      <td>2004</td>\n",
       "      <td>77.5</td>\n",
       "      <td>1.230000e+13</td>\n",
       "      <td>12.30000</td>\n",
       "    </tr>\n",
       "    <tr>\n",
       "      <th>69</th>\n",
       "      <td>United States of America</td>\n",
       "      <td>2005</td>\n",
       "      <td>77.5</td>\n",
       "      <td>1.310000e+13</td>\n",
       "      <td>13.10000</td>\n",
       "    </tr>\n",
       "    <tr>\n",
       "      <th>70</th>\n",
       "      <td>United States of America</td>\n",
       "      <td>2006</td>\n",
       "      <td>77.8</td>\n",
       "      <td>1.390000e+13</td>\n",
       "      <td>13.90000</td>\n",
       "    </tr>\n",
       "    <tr>\n",
       "      <th>71</th>\n",
       "      <td>United States of America</td>\n",
       "      <td>2007</td>\n",
       "      <td>78.1</td>\n",
       "      <td>1.450000e+13</td>\n",
       "      <td>14.50000</td>\n",
       "    </tr>\n",
       "    <tr>\n",
       "      <th>72</th>\n",
       "      <td>United States of America</td>\n",
       "      <td>2008</td>\n",
       "      <td>78.2</td>\n",
       "      <td>1.470000e+13</td>\n",
       "      <td>14.70000</td>\n",
       "    </tr>\n",
       "    <tr>\n",
       "      <th>73</th>\n",
       "      <td>United States of America</td>\n",
       "      <td>2009</td>\n",
       "      <td>78.5</td>\n",
       "      <td>1.440000e+13</td>\n",
       "      <td>14.40000</td>\n",
       "    </tr>\n",
       "    <tr>\n",
       "      <th>74</th>\n",
       "      <td>United States of America</td>\n",
       "      <td>2010</td>\n",
       "      <td>78.7</td>\n",
       "      <td>1.500000e+13</td>\n",
       "      <td>15.00000</td>\n",
       "    </tr>\n",
       "    <tr>\n",
       "      <th>75</th>\n",
       "      <td>United States of America</td>\n",
       "      <td>2011</td>\n",
       "      <td>78.7</td>\n",
       "      <td>1.550000e+13</td>\n",
       "      <td>15.50000</td>\n",
       "    </tr>\n",
       "    <tr>\n",
       "      <th>76</th>\n",
       "      <td>United States of America</td>\n",
       "      <td>2012</td>\n",
       "      <td>78.8</td>\n",
       "      <td>1.620000e+13</td>\n",
       "      <td>16.20000</td>\n",
       "    </tr>\n",
       "    <tr>\n",
       "      <th>77</th>\n",
       "      <td>United States of America</td>\n",
       "      <td>2013</td>\n",
       "      <td>78.9</td>\n",
       "      <td>1.670000e+13</td>\n",
       "      <td>16.70000</td>\n",
       "    </tr>\n",
       "    <tr>\n",
       "      <th>78</th>\n",
       "      <td>United States of America</td>\n",
       "      <td>2014</td>\n",
       "      <td>79.1</td>\n",
       "      <td>1.740000e+13</td>\n",
       "      <td>17.40000</td>\n",
       "    </tr>\n",
       "    <tr>\n",
       "      <th>79</th>\n",
       "      <td>United States of America</td>\n",
       "      <td>2015</td>\n",
       "      <td>79.3</td>\n",
       "      <td>1.810000e+13</td>\n",
       "      <td>18.10000</td>\n",
       "    </tr>\n",
       "  </tbody>\n",
       "</table>\n",
       "</div>"
      ],
      "text/plain": [
       "                     Country  Year  Life expectancy at birth (years)  \\\n",
       "16                     China  2000                              71.7   \n",
       "17                     China  2001                              72.2   \n",
       "18                     China  2002                              72.7   \n",
       "19                     China  2003                              73.1   \n",
       "20                     China  2004                              73.5   \n",
       "21                     China  2005                              73.9   \n",
       "22                     China  2006                              74.2   \n",
       "23                     China  2007                              74.4   \n",
       "24                     China  2008                              74.5   \n",
       "25                     China  2009                              74.9   \n",
       "26                     China  2010                              75.0   \n",
       "27                     China  2011                              75.2   \n",
       "28                     China  2012                              75.4   \n",
       "29                     China  2013                              75.6   \n",
       "30                     China  2014                              75.8   \n",
       "31                     China  2015                              76.1   \n",
       "64  United States of America  2000                              76.8   \n",
       "65  United States of America  2001                              76.9   \n",
       "66  United States of America  2002                              77.0   \n",
       "67  United States of America  2003                              77.2   \n",
       "68  United States of America  2004                              77.5   \n",
       "69  United States of America  2005                              77.5   \n",
       "70  United States of America  2006                              77.8   \n",
       "71  United States of America  2007                              78.1   \n",
       "72  United States of America  2008                              78.2   \n",
       "73  United States of America  2009                              78.5   \n",
       "74  United States of America  2010                              78.7   \n",
       "75  United States of America  2011                              78.7   \n",
       "76  United States of America  2012                              78.8   \n",
       "77  United States of America  2013                              78.9   \n",
       "78  United States of America  2014                              79.1   \n",
       "79  United States of America  2015                              79.3   \n",
       "\n",
       "             GDP  GDP in Trilion  \n",
       "16  1.211350e+12         1.21135  \n",
       "17  1.339400e+12         1.33940  \n",
       "18  1.470550e+12         1.47055  \n",
       "19  1.660290e+12         1.66029  \n",
       "20  1.955350e+12         1.95535  \n",
       "21  2.285970e+12         2.28597  \n",
       "22  2.752130e+12         2.75213  \n",
       "23  3.552180e+12         3.55218  \n",
       "24  4.598210e+12         4.59821  \n",
       "25  5.109950e+12         5.10995  \n",
       "26  6.100620e+12         6.10062  \n",
       "27  7.572550e+12         7.57255  \n",
       "28  8.560550e+12         8.56055  \n",
       "29  9.607220e+12         9.60722  \n",
       "30  1.048240e+13        10.48240  \n",
       "31  1.106470e+13        11.06470  \n",
       "64  1.030000e+13        10.30000  \n",
       "65  1.060000e+13        10.60000  \n",
       "66  1.100000e+13        11.00000  \n",
       "67  1.150000e+13        11.50000  \n",
       "68  1.230000e+13        12.30000  \n",
       "69  1.310000e+13        13.10000  \n",
       "70  1.390000e+13        13.90000  \n",
       "71  1.450000e+13        14.50000  \n",
       "72  1.470000e+13        14.70000  \n",
       "73  1.440000e+13        14.40000  \n",
       "74  1.500000e+13        15.00000  \n",
       "75  1.550000e+13        15.50000  \n",
       "76  1.620000e+13        16.20000  \n",
       "77  1.670000e+13        16.70000  \n",
       "78  1.740000e+13        17.40000  \n",
       "79  1.810000e+13        18.10000  "
      ]
     },
     "execution_count": 55,
     "metadata": {},
     "output_type": "execute_result"
    }
   ],
   "source": [
    "China_USA = China.append(USA)\n",
    "China_USA['GDP in Trilion'] = China_USA['GDP'] / 10**12 \n",
    "China_USA.head(40)"
   ]
  },
  {
   "cell_type": "code",
   "execution_count": 56,
   "metadata": {},
   "outputs": [
    {
     "data": {
      "text/plain": [
       "<AxesSubplot:xlabel='GDP in Trilion', ylabel='Life expectancy at birth (years)'>"
      ]
     },
     "execution_count": 56,
     "metadata": {},
     "output_type": "execute_result"
    },
    {
     "data": {
      "image/png": "[encoded data removed]",
      "text/plain": [
       "<Figure size 432x288 with 1 Axes>"
      ]
     },
     "metadata": {
      "needs_background": "light"
     },
     "output_type": "display_data"
    }
   ],
   "source": [
    "sns.scatterplot(data=China_USA, x=\"GDP in Trilion\", y=\"Life expectancy at birth (years)\", hue=\"Country\")"
   ]
  },
  {
   "cell_type": "code",
   "execution_count": 57,
   "metadata": {},
   "outputs": [
    {
     "data": {
      "text/plain": [
       "<AxesSubplot:xlabel='Year', ylabel='Life expectancy at birth (years)'>"
      ]
     },
     "execution_count": 57,
     "metadata": {},
     "output_type": "execute_result"
    },
    {
     "data": {
      "image/png": "[encoded data removed]",
      "text/plain": [
       "<Figure size 432x288 with 1 Axes>"
      ]
     },
     "metadata": {
      "needs_background": "light"
     },
     "output_type": "display_data"
    }
   ],
   "source": [
    "sns.scatterplot(data=China_USA, x=\"Year\", y=\"Life expectancy at birth (years)\", hue=\"Country\")"
   ]
  }
 ],
 "metadata": {
  "kernelspec": {
   "display_name": "Python 3",
   "language": "python",
   "name": "python3"
  },
  "language_info": {
   "codemirror_mode": {
    "name": "ipython",
    "version": 3
   },
   "file_extension": ".py",
   "mimetype": "text/x-python",
   "name": "python",
   "nbconvert_exporter": "python",
   "pygments_lexer": "ipython3",
   "version": "3.8.5"
  }
 },
 "nbformat": 4,
 "nbformat_minor": 4
}
